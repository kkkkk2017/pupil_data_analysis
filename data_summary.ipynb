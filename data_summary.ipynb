{
 "cells": [
  {
   "cell_type": "code",
   "execution_count": 1,
   "metadata": {},
   "outputs": [],
   "source": [
    "import pandas as pd\n",
    "import numpy as np\n",
    "import os\n",
    "import xlsxwriter"
   ]
  },
  {
   "cell_type": "code",
   "execution_count": 2,
   "metadata": {},
   "outputs": [],
   "source": [
    "def collect_data(df, timeframe=0):\n",
    "    if timeframe != 0:\n",
    "        new_df = df[df['window size'] == timeframe]\n",
    "        if timeframe == 1:\n",
    "            print(len(new_df))\n",
    "    else:\n",
    "         new_df = df\n",
    "    \n",
    "    eval('means_px_'+str(timeframe)).append(np.nanmean(new_df['diff_mean']))\n",
    "    eval('maxs_px_'+str(timeframe)).append(np.nanmean(new_df['diff_max']))\n",
    "    eval('mins_px_'+str(timeframe)).append(np.nanmean(new_df['diff_min']))\n",
    "    eval('stds_px_'+str(timeframe)).append(np.nanmean(new_df['diff_std']))\n",
    "    eval('cv_means_px_'+str(timeframe)).append(np.nanmean(new_df['cv_mean']))\n",
    "    eval('eve_means_px_'+str(timeframe)).append(np.nanmean(new_df['eve_mean']))\n",
    "\n",
    "    eval('means_pc_'+str(timeframe)).append(np.nanmean(new_df['pcps_diff_mean']))\n",
    "    eval('maxs_pc_'+str(timeframe)).append(np.nanmean(new_df['pcps_diff_max']))\n",
    "    eval('mins_pc_'+str(timeframe)).append(np.nanmean(new_df['pcps_diff_min']))\n",
    "    eval('stds_pc_'+str(timeframe)).append(np.nanmean(new_df['pcps_diff_std']))\n",
    "\n",
    "    eval('cv_means_pc_'+str(timeframe)).append(np.nanmean(new_df['pcps_cv_mean']))\n",
    "    eval('eve_means_pc_'+str(timeframe)).append(np.nanmean(new_df['pcps_eve_mean']))\n",
    "    "
   ]
  },
  {
   "cell_type": "code",
   "execution_count": 5,
   "metadata": {},
   "outputs": [
    {
     "name": "stdout",
     "output_type": "stream",
     "text": [
      "train01\n",
      "50\n",
      "train12\n",
      "74\n",
      "train13\n",
      "87\n",
      "train19\n"
     ]
    },
    {
     "ename": "EmptyDataError",
     "evalue": "No columns to parse from file",
     "output_type": "error",
     "traceback": [
      "\u001b[1;31m---------------------------------------------------------------------------\u001b[0m",
      "\u001b[1;31mEmptyDataError\u001b[0m                            Traceback (most recent call last)",
      "\u001b[1;32m<ipython-input-5-0c5c7c901046>\u001b[0m in \u001b[0;36m<module>\u001b[1;34m\u001b[0m\n\u001b[0;32m     24\u001b[0m     \u001b[0mprint\u001b[0m\u001b[1;33m(\u001b[0m\u001b[0mcurrent_num\u001b[0m\u001b[1;33m)\u001b[0m\u001b[1;33m\u001b[0m\u001b[1;33m\u001b[0m\u001b[0m\n\u001b[0;32m     25\u001b[0m \u001b[1;33m\u001b[0m\u001b[0m\n\u001b[1;32m---> 26\u001b[1;33m     \u001b[0mdf\u001b[0m \u001b[1;33m=\u001b[0m \u001b[0mpd\u001b[0m\u001b[1;33m.\u001b[0m\u001b[0mread_csv\u001b[0m\u001b[1;33m(\u001b[0m\u001b[0mos\u001b[0m\u001b[1;33m.\u001b[0m\u001b[0mpath\u001b[0m\u001b[1;33m.\u001b[0m\u001b[0mjoin\u001b[0m\u001b[1;33m(\u001b[0m\u001b[0mos\u001b[0m\u001b[1;33m.\u001b[0m\u001b[0mgetcwd\u001b[0m\u001b[1;33m(\u001b[0m\u001b[1;33m)\u001b[0m \u001b[1;33m+\u001b[0m \u001b[1;34m'/all_db/'\u001b[0m\u001b[1;33m+\u001b[0m\u001b[0md\u001b[0m \u001b[1;33m+\u001b[0m \u001b[1;34m'/'\u001b[0m\u001b[1;33m+\u001b[0m \u001b[0mcurrent_num\u001b[0m\u001b[1;33m+\u001b[0m\u001b[1;34m\"_result_copy.csv\"\u001b[0m\u001b[1;33m)\u001b[0m\u001b[1;33m)\u001b[0m\u001b[1;33m\u001b[0m\u001b[1;33m\u001b[0m\u001b[0m\n\u001b[0m\u001b[0;32m     27\u001b[0m     \u001b[1;32mfor\u001b[0m \u001b[0mindex\u001b[0m\u001b[1;33m,\u001b[0m \u001b[0mrow\u001b[0m \u001b[1;32min\u001b[0m \u001b[0mdf\u001b[0m\u001b[1;33m.\u001b[0m\u001b[0miterrows\u001b[0m\u001b[1;33m(\u001b[0m\u001b[1;33m)\u001b[0m\u001b[1;33m:\u001b[0m\u001b[1;33m\u001b[0m\u001b[1;33m\u001b[0m\u001b[0m\n\u001b[0;32m     28\u001b[0m         \u001b[0mdf\u001b[0m\u001b[1;33m[\u001b[0m\u001b[0mindex\u001b[0m\u001b[1;33m]\u001b[0m \u001b[1;33m=\u001b[0m \u001b[0mpd\u001b[0m\u001b[1;33m.\u001b[0m\u001b[0mto_numeric\u001b[0m\u001b[1;33m(\u001b[0m\u001b[0mrow\u001b[0m\u001b[1;33m,\u001b[0m \u001b[1;34m'coerce'\u001b[0m\u001b[1;33m)\u001b[0m\u001b[1;33m\u001b[0m\u001b[1;33m\u001b[0m\u001b[0m\n",
      "\u001b[1;32m~\\Anaconda3\\lib\\site-packages\\pandas\\io\\parsers.py\u001b[0m in \u001b[0;36mparser_f\u001b[1;34m(filepath_or_buffer, sep, delimiter, header, names, index_col, usecols, squeeze, prefix, mangle_dupe_cols, dtype, engine, converters, true_values, false_values, skipinitialspace, skiprows, skipfooter, nrows, na_values, keep_default_na, na_filter, verbose, skip_blank_lines, parse_dates, infer_datetime_format, keep_date_col, date_parser, dayfirst, iterator, chunksize, compression, thousands, decimal, lineterminator, quotechar, quoting, doublequote, escapechar, comment, encoding, dialect, tupleize_cols, error_bad_lines, warn_bad_lines, delim_whitespace, low_memory, memory_map, float_precision)\u001b[0m\n\u001b[0;32m    700\u001b[0m                     skip_blank_lines=skip_blank_lines)\n\u001b[0;32m    701\u001b[0m \u001b[1;33m\u001b[0m\u001b[0m\n\u001b[1;32m--> 702\u001b[1;33m         \u001b[1;32mreturn\u001b[0m \u001b[0m_read\u001b[0m\u001b[1;33m(\u001b[0m\u001b[0mfilepath_or_buffer\u001b[0m\u001b[1;33m,\u001b[0m \u001b[0mkwds\u001b[0m\u001b[1;33m)\u001b[0m\u001b[1;33m\u001b[0m\u001b[1;33m\u001b[0m\u001b[0m\n\u001b[0m\u001b[0;32m    703\u001b[0m \u001b[1;33m\u001b[0m\u001b[0m\n\u001b[0;32m    704\u001b[0m     \u001b[0mparser_f\u001b[0m\u001b[1;33m.\u001b[0m\u001b[0m__name__\u001b[0m \u001b[1;33m=\u001b[0m \u001b[0mname\u001b[0m\u001b[1;33m\u001b[0m\u001b[1;33m\u001b[0m\u001b[0m\n",
      "\u001b[1;32m~\\Anaconda3\\lib\\site-packages\\pandas\\io\\parsers.py\u001b[0m in \u001b[0;36m_read\u001b[1;34m(filepath_or_buffer, kwds)\u001b[0m\n\u001b[0;32m    427\u001b[0m \u001b[1;33m\u001b[0m\u001b[0m\n\u001b[0;32m    428\u001b[0m     \u001b[1;31m# Create the parser.\u001b[0m\u001b[1;33m\u001b[0m\u001b[1;33m\u001b[0m\u001b[1;33m\u001b[0m\u001b[0m\n\u001b[1;32m--> 429\u001b[1;33m     \u001b[0mparser\u001b[0m \u001b[1;33m=\u001b[0m \u001b[0mTextFileReader\u001b[0m\u001b[1;33m(\u001b[0m\u001b[0mfilepath_or_buffer\u001b[0m\u001b[1;33m,\u001b[0m \u001b[1;33m**\u001b[0m\u001b[0mkwds\u001b[0m\u001b[1;33m)\u001b[0m\u001b[1;33m\u001b[0m\u001b[1;33m\u001b[0m\u001b[0m\n\u001b[0m\u001b[0;32m    430\u001b[0m \u001b[1;33m\u001b[0m\u001b[0m\n\u001b[0;32m    431\u001b[0m     \u001b[1;32mif\u001b[0m \u001b[0mchunksize\u001b[0m \u001b[1;32mor\u001b[0m \u001b[0miterator\u001b[0m\u001b[1;33m:\u001b[0m\u001b[1;33m\u001b[0m\u001b[1;33m\u001b[0m\u001b[0m\n",
      "\u001b[1;32m~\\Anaconda3\\lib\\site-packages\\pandas\\io\\parsers.py\u001b[0m in \u001b[0;36m__init__\u001b[1;34m(self, f, engine, **kwds)\u001b[0m\n\u001b[0;32m    893\u001b[0m             \u001b[0mself\u001b[0m\u001b[1;33m.\u001b[0m\u001b[0moptions\u001b[0m\u001b[1;33m[\u001b[0m\u001b[1;34m'has_index_names'\u001b[0m\u001b[1;33m]\u001b[0m \u001b[1;33m=\u001b[0m \u001b[0mkwds\u001b[0m\u001b[1;33m[\u001b[0m\u001b[1;34m'has_index_names'\u001b[0m\u001b[1;33m]\u001b[0m\u001b[1;33m\u001b[0m\u001b[1;33m\u001b[0m\u001b[0m\n\u001b[0;32m    894\u001b[0m \u001b[1;33m\u001b[0m\u001b[0m\n\u001b[1;32m--> 895\u001b[1;33m         \u001b[0mself\u001b[0m\u001b[1;33m.\u001b[0m\u001b[0m_make_engine\u001b[0m\u001b[1;33m(\u001b[0m\u001b[0mself\u001b[0m\u001b[1;33m.\u001b[0m\u001b[0mengine\u001b[0m\u001b[1;33m)\u001b[0m\u001b[1;33m\u001b[0m\u001b[1;33m\u001b[0m\u001b[0m\n\u001b[0m\u001b[0;32m    896\u001b[0m \u001b[1;33m\u001b[0m\u001b[0m\n\u001b[0;32m    897\u001b[0m     \u001b[1;32mdef\u001b[0m \u001b[0mclose\u001b[0m\u001b[1;33m(\u001b[0m\u001b[0mself\u001b[0m\u001b[1;33m)\u001b[0m\u001b[1;33m:\u001b[0m\u001b[1;33m\u001b[0m\u001b[1;33m\u001b[0m\u001b[0m\n",
      "\u001b[1;32m~\\Anaconda3\\lib\\site-packages\\pandas\\io\\parsers.py\u001b[0m in \u001b[0;36m_make_engine\u001b[1;34m(self, engine)\u001b[0m\n\u001b[0;32m   1120\u001b[0m     \u001b[1;32mdef\u001b[0m \u001b[0m_make_engine\u001b[0m\u001b[1;33m(\u001b[0m\u001b[0mself\u001b[0m\u001b[1;33m,\u001b[0m \u001b[0mengine\u001b[0m\u001b[1;33m=\u001b[0m\u001b[1;34m'c'\u001b[0m\u001b[1;33m)\u001b[0m\u001b[1;33m:\u001b[0m\u001b[1;33m\u001b[0m\u001b[1;33m\u001b[0m\u001b[0m\n\u001b[0;32m   1121\u001b[0m         \u001b[1;32mif\u001b[0m \u001b[0mengine\u001b[0m \u001b[1;33m==\u001b[0m \u001b[1;34m'c'\u001b[0m\u001b[1;33m:\u001b[0m\u001b[1;33m\u001b[0m\u001b[1;33m\u001b[0m\u001b[0m\n\u001b[1;32m-> 1122\u001b[1;33m             \u001b[0mself\u001b[0m\u001b[1;33m.\u001b[0m\u001b[0m_engine\u001b[0m \u001b[1;33m=\u001b[0m \u001b[0mCParserWrapper\u001b[0m\u001b[1;33m(\u001b[0m\u001b[0mself\u001b[0m\u001b[1;33m.\u001b[0m\u001b[0mf\u001b[0m\u001b[1;33m,\u001b[0m \u001b[1;33m**\u001b[0m\u001b[0mself\u001b[0m\u001b[1;33m.\u001b[0m\u001b[0moptions\u001b[0m\u001b[1;33m)\u001b[0m\u001b[1;33m\u001b[0m\u001b[1;33m\u001b[0m\u001b[0m\n\u001b[0m\u001b[0;32m   1123\u001b[0m         \u001b[1;32melse\u001b[0m\u001b[1;33m:\u001b[0m\u001b[1;33m\u001b[0m\u001b[1;33m\u001b[0m\u001b[0m\n\u001b[0;32m   1124\u001b[0m             \u001b[1;32mif\u001b[0m \u001b[0mengine\u001b[0m \u001b[1;33m==\u001b[0m \u001b[1;34m'python'\u001b[0m\u001b[1;33m:\u001b[0m\u001b[1;33m\u001b[0m\u001b[1;33m\u001b[0m\u001b[0m\n",
      "\u001b[1;32m~\\Anaconda3\\lib\\site-packages\\pandas\\io\\parsers.py\u001b[0m in \u001b[0;36m__init__\u001b[1;34m(self, src, **kwds)\u001b[0m\n\u001b[0;32m   1851\u001b[0m         \u001b[0mkwds\u001b[0m\u001b[1;33m[\u001b[0m\u001b[1;34m'usecols'\u001b[0m\u001b[1;33m]\u001b[0m \u001b[1;33m=\u001b[0m \u001b[0mself\u001b[0m\u001b[1;33m.\u001b[0m\u001b[0musecols\u001b[0m\u001b[1;33m\u001b[0m\u001b[1;33m\u001b[0m\u001b[0m\n\u001b[0;32m   1852\u001b[0m \u001b[1;33m\u001b[0m\u001b[0m\n\u001b[1;32m-> 1853\u001b[1;33m         \u001b[0mself\u001b[0m\u001b[1;33m.\u001b[0m\u001b[0m_reader\u001b[0m \u001b[1;33m=\u001b[0m \u001b[0mparsers\u001b[0m\u001b[1;33m.\u001b[0m\u001b[0mTextReader\u001b[0m\u001b[1;33m(\u001b[0m\u001b[0msrc\u001b[0m\u001b[1;33m,\u001b[0m \u001b[1;33m**\u001b[0m\u001b[0mkwds\u001b[0m\u001b[1;33m)\u001b[0m\u001b[1;33m\u001b[0m\u001b[1;33m\u001b[0m\u001b[0m\n\u001b[0m\u001b[0;32m   1854\u001b[0m         \u001b[0mself\u001b[0m\u001b[1;33m.\u001b[0m\u001b[0munnamed_cols\u001b[0m \u001b[1;33m=\u001b[0m \u001b[0mself\u001b[0m\u001b[1;33m.\u001b[0m\u001b[0m_reader\u001b[0m\u001b[1;33m.\u001b[0m\u001b[0munnamed_cols\u001b[0m\u001b[1;33m\u001b[0m\u001b[1;33m\u001b[0m\u001b[0m\n\u001b[0;32m   1855\u001b[0m \u001b[1;33m\u001b[0m\u001b[0m\n",
      "\u001b[1;32mpandas/_libs/parsers.pyx\u001b[0m in \u001b[0;36mpandas._libs.parsers.TextReader.__cinit__\u001b[1;34m()\u001b[0m\n",
      "\u001b[1;31mEmptyDataError\u001b[0m: No columns to parse from file"
     ]
    }
   ],
   "source": [
    "nums = []\n",
    "\n",
    "means_px_0,maxs_px_0,mins_px_0,stds_px_0,cv_means_px_0,eve_means_px_0 = [],[],[],[],[],[]\n",
    "means_pc_0,maxs_pc_0,mins_pc_0,stds_pc_0,cv_means_pc_0,eve_means_pc_0 = [],[],[],[],[],[]\n",
    "\n",
    "means_px_1,maxs_px_1,mins_px_1,stds_px_1,cv_means_px_1,eve_means_px_1 = [],[],[],[],[],[]\n",
    "means_pc_1,maxs_pc_1,mins_pc_1,stds_pc_1,cv_means_pc_1,eve_means_pc_1 = [],[],[],[],[],[]\n",
    "\n",
    "means_px_2,maxs_px_2,mins_px_2,stds_px_2,cv_means_px_2,eve_means_px_2 = [],[],[],[],[],[]\n",
    "means_pc_2,maxs_pc_2,mins_pc_2,stds_pc_2,cv_means_pc_2,eve_means_pc_2 = [],[],[],[],[],[]\n",
    "\n",
    "means_px_3,maxs_px_3,mins_px_3,stds_px_3,cv_means_px_3,eve_means_px_3 = [],[],[],[],[],[]\n",
    "means_pc_3,maxs_pc_3,mins_pc_3,stds_pc_3,cv_means_pc_3,eve_means_pc_3 = [],[],[],[],[],[]\n",
    "\n",
    "means_px_4,maxs_px_4,mins_px_4,stds_px_4,cv_means_px_4,eve_means_px_4 = [],[],[],[],[],[]\n",
    "means_pc_4,maxs_pc_4,mins_pc_4,stds_pc_4,cv_means_pc_4,eve_means_pc_4 = [],[],[],[],[],[]\n",
    "\n",
    "\n",
    "for d in os.listdir(os.getcwd() + '/all_db/'):\n",
    "    if not d.endswith('_result'): continue\n",
    "    \n",
    "    current_num = d.split('_')[0]\n",
    "    nums.append(current_num)\n",
    "    print(current_num)\n",
    "    \n",
    "    df = pd.read_csv(os.path.join(os.getcwd() + '/all_db/'+d + '/'+ current_num+\"_result_copy.csv\"))\n",
    "    for index, row in df.iterrows():\n",
    "        df[index] = pd.to_numeric(row, 'coerce')\n",
    "    df = df.fillna(0)\n",
    "    \n",
    "    collect_data(df)\n",
    "    collect_data(df, 1)\n",
    "    collect_data(df, 2)\n",
    "    collect_data(df, 3)\n",
    "    collect_data(df, 4)\n",
    "\n",
    "xlsx_file = os.getcwd() +'/data_summary_eve_dataset_copy.xlsx'\n",
    "print(xlsx_file)\n",
    "workbook = xlsxwriter.Workbook(xlsx_file)\n",
    "worksheet_0 = workbook.add_worksheet('all_timeframe')\n",
    "worksheet_1 = workbook.add_worksheet('1sec_timeframe')\n",
    "worksheet_2 = workbook.add_worksheet('2sec_timeframe')\n",
    "worksheet_3 = workbook.add_worksheet('3sec_timeframe')\n",
    "worksheet_4 = workbook.add_worksheet('4sec_timeframe')\n",
    "\n",
    "titles = ['# (average difference between two signals) / the pixel errors', 'mean', 'max', 'min', 'std', 'cv mean', 'eve mean', \n",
    "          'mean(pcps)','max(pcps)', 'min(pcps)', 'std(pcps)', 'cv mean(pcps)', 'eve mean(pcps)']\n",
    "\n",
    "for i in range(0, 5):\n",
    "    eval('worksheet_'+str(i)).write_row(0, 0, titles)\n",
    "#     print(i, eval('means_px_'+str(i)))\n",
    "    eval('worksheet_'+str(i)).write_column(1, 0, nums)\n",
    "    eval('worksheet_'+str(i)).write_column(1, 1, eval('means_px_'+str(i)))\n",
    "    eval('worksheet_'+str(i)).write_column(1, 2, eval('maxs_px_'+str(i)))\n",
    "    eval('worksheet_'+str(i)).write_column(1, 3, eval('mins_px_'+str(i)))\n",
    "    eval('worksheet_'+str(i)).write_column(1, 4, eval('stds_px_'+str(i)))\n",
    "    eval('worksheet_'+str(i)).write_column(1, 5, eval('cv_means_px_'+str(i)))\n",
    "    eval('worksheet_'+str(i)).write_column(1, 6, eval('eve_means_px_'+str(i)))\n",
    "                                           \n",
    "    eval('worksheet_'+str(i)).write_column(1, 7, eval('means_pc_'+str(i)))\n",
    "    eval('worksheet_'+str(i)).write_column(1, 8, eval('maxs_pc_'+str(i)))\n",
    "    eval('worksheet_'+str(i)).write_column(1, 9, eval('mins_pc_'+str(i)))\n",
    "    eval('worksheet_'+str(i)).write_column(1, 10, eval('stds_pc_'+str(i)))\n",
    "    eval('worksheet_'+str(i)).write_column(1, 11, eval('cv_means_pc_'+str(i)))\n",
    "    eval('worksheet_'+str(i)).write_column(1, 12, eval('eve_means_pc_'+str(i)))\n",
    "                                           \n",
    "workbook.close()                    "
   ]
  },
  {
   "cell_type": "code",
   "execution_count": null,
   "metadata": {},
   "outputs": [],
   "source": []
  }
 ],
 "metadata": {
  "kernelspec": {
   "display_name": "Python 3",
   "language": "python",
   "name": "python3"
  },
  "language_info": {
   "codemirror_mode": {
    "name": "ipython",
    "version": 3
   },
   "file_extension": ".py",
   "mimetype": "text/x-python",
   "name": "python",
   "nbconvert_exporter": "python",
   "pygments_lexer": "ipython3",
   "version": "3.7.3"
  }
 },
 "nbformat": 4,
 "nbformat_minor": 2
}
