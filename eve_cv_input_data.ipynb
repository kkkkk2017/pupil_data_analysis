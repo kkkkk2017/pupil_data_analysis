{
 "cells": [
  {
   "cell_type": "code",
   "execution_count": 34,
   "metadata": {},
   "outputs": [],
   "source": [
    "import pandas as pd\n",
    "import numpy as np\n",
    "import h5py as h5"
   ]
  },
  {
   "cell_type": "code",
   "execution_count": 35,
   "metadata": {},
   "outputs": [],
   "source": [
    "#input data\n",
    "def input_data(folder):\n",
    "    print('---- input cv ---- ')\n",
    "    cv = pd.read_csv(folder+'/' + folder + '_video_result.csv')\n",
    "    cv['pupil'] = pd.to_numeric(cv['pupil'], errors='coerce')\n",
    "    cv['ratio'] = pd.to_numeric(cv['ratio'], errors='coerce')\n",
    "    cv['x'] = pd.to_numeric(cv['x'], errors='coerce')\n",
    "    cv['y'] = pd.to_numeric(cv['y'], errors='coerce')\n",
    "    cv['ts'] = pd.to_numeric(cv['ts'], errors='coerce')\n",
    "    cv['ts'] = np.around(cv['ts'], decimals=0)\n",
    "    #seperate by steps\n",
    "    cv = cv[cv['pupil'] > 0] #remove zeros\n",
    "    \n",
    "    s30_cv = cv[cv['step'] == 30]\n",
    "    s31_cv = cv[cv['step'] == 31]\n",
    "    s32_cv = cv[cv['step'] == 32]\n",
    "    \n",
    "    return cv, s30_cv, s31_cv, s32_cv\n",
    "\n",
    "def input_eve_data(folder, step, step_num):\n",
    "    print('---- input eve ---- ')\n",
    "    file = folder+'/' + step + '_webcam_c.h5'\n",
    "    \n",
    "    left_pupil_db = pd.DataFrame(np.array(h5.File(file)['left_p']['data']))\n",
    "    right_pupil_db = pd.DataFrame(np.array(h5.File(file)['right_p']['data']))\n",
    "    px_2_mm = pd.DataFrame(np.array(h5.File(file)['pixels_per_millimeter']))\n",
    "    gaze_right = pd.DataFrame(np.array(h5.File(file)['right_o']['data']))\n",
    "    gaze_left = pd.DataFrame(np.array(h5.File(file)['left_o']['data']))\n",
    "    gaze_left = gaze_left.rename(columns={0: 'x', 1: 'y', 2: 'z'})\n",
    "    gaze_right = gaze_right.rename(columns={0: 'x', 1: 'y', 2: 'z'})\n",
    "    scale = pd.DataFrame(np.array(h5.File(file)['pixels_per_millimeter']))\n",
    "    scale = scale[0][0]\n",
    "    \n",
    "    #normalise input data\n",
    "    #eve db\n",
    "    left_pupil_db *= scale\n",
    "    right_pupil_db *= scale\n",
    "    \n",
    "    #insert the timestamp information for the eve data\n",
    "    ts_eve = attach_ts(step_num, folder)\n",
    "    left_pupil_db['ts'] = ts_eve\n",
    "    right_pupil_db['ts'] = ts_eve\n",
    "    \n",
    "    # integrate into one dataframe with the coordinate\n",
    "    left_pupil_db['x'] = gaze_left['x']\n",
    "    left_pupil_db['y'] = gaze_left['y']\n",
    "\n",
    "    right_pupil_db['x'] = gaze_right['x']\n",
    "    right_pupil_db['y'] = gaze_right['y']\n",
    "\n",
    "    left_pupil_db = left_pupil_db.rename(columns={0: 'pupil'})\n",
    "    right_pupil_db = right_pupil_db.rename(columns={0: 'pupil'})\n",
    "    left_pupil_db = left_pupil_db[left_pupil_db['pupil'] != 0]\n",
    "    right_pupil_db = right_pupil_db[right_pupil_db['pupil'] != 0]\n",
    "    \n",
    "    return left_pupil_db, right_pupil_db, ts_eve"
   ]
  },
  {
   "cell_type": "code",
   "execution_count": 36,
   "metadata": {},
   "outputs": [],
   "source": [
    "def attach_ts(stepnum, folder):\n",
    "    f = open(folder+'/step_' + stepnum +'_webcam_c.timestamps.txt','r')\n",
    "    ts = []\n",
    "    for line in f.readlines():\n",
    "        ts.append(float(line[:-1]))\n",
    "    \n",
    "    f.close()\n",
    "    \n",
    "    start = ts[0]\n",
    "    for i in range(len(ts)):\n",
    "        ts[i] -= start\n",
    "        ts[i] /= 1000000 #from ms to s\n",
    "        ts[i] = np.around(ts[i], decimals=0)\n",
    "    return ts\n"
   ]
  },
  {
   "cell_type": "code",
   "execution_count": 37,
   "metadata": {
    "scrolled": false
   },
   "outputs": [],
   "source": [
    "def run(step_num, step_cv_df, folder):\n",
    "    step_num = str(step_num)\n",
    "    step = 'step_' + step_num\n",
    "    save_file = folder+'/'+step\n",
    "    print(step_cv_df.head(10))\n",
    "    #input eve data\n",
    "    left_pupil_db, right_pupil_db, ts_eve = input_eve_data(folder, step, step_num)\n",
    "    print(left_pupil_db.head(10))\n",
    "    \n",
    "    changes_cv_left = step_cv_df[step_cv_df['side'] == 'L'] #select individual side\n",
    "    changes_cv_right = step_cv_df[step_cv_df['side'] == 'R']\n"
   ]
  },
  {
   "cell_type": "code",
   "execution_count": 38,
   "metadata": {
    "scrolled": false
   },
   "outputs": [
    {
     "name": "stdout",
     "output_type": "stream",
     "text": [
      "---- input cv ---- \n",
      "   step     ts      x     y  pupil  ratio    sim side     d2\n",
      "0    30  100.0  109.0   7.0  16.00   0.33  29.42    L  -1.00\n",
      "1    30  133.0  157.0  84.0  16.00   0.33  30.25    L  -1.00\n",
      "2    30  167.0  108.0  11.0  16.00   0.33  27.86    L  -1.00\n",
      "3    30  200.0  106.0  15.0  20.00   0.42  26.94    L  -1.00\n",
      "4    30  233.0  140.5  24.0  14.25   0.31  16.65    R  -1.00\n",
      "5    30  400.0   96.0  35.0  20.00   0.35   9.58    L  -1.00\n",
      "6    30  433.0  147.0  31.5  16.75   0.31   5.94    L  -1.00\n",
      "7    30  500.0  145.5  30.5  16.50   0.31   6.86    L  68.31\n",
      "8    30  500.0   81.0  53.0  23.00   0.46  20.29    R  68.31\n",
      "9    30  533.0  145.5  29.5  16.50   0.32   7.43    L  -1.00\n",
      "---- input eve ---- \n",
      "       pupil     ts          x          y\n",
      "0   9.997913    0.0  65.001518 -78.580025\n",
      "1   9.977455   32.0  64.510765 -78.782364\n",
      "2   9.997486   68.0  64.184669 -79.252998\n",
      "3  10.004448  100.0  63.921066 -79.551933\n",
      "4  10.006173  132.0  63.531841 -79.610306\n",
      "5  10.005296  168.0  63.018250 -80.315933\n",
      "6  10.005711  200.0  62.188423 -81.228676\n",
      "7  10.019866  232.0  61.220886 -81.463631\n",
      "8  10.038164  268.0  59.308361 -82.459122\n",
      "9  10.056876  300.0  56.923325 -82.896004\n"
     ]
    }
   ],
   "source": [
    "cv_36, s30_cv36, s31_cv36, s32_cv36 = input_data('train36')\n",
    "run(30, s30_cv36, 'train36') #step 30, 31, 32"
   ]
  },
  {
   "cell_type": "code",
   "execution_count": 39,
   "metadata": {
    "scrolled": true
   },
   "outputs": [
    {
     "name": "stdout",
     "output_type": "stream",
     "text": [
      "---- input cv ---- \n"
     ]
    }
   ],
   "source": [
    "cv_38, s30_cv38, s31_cv38, s32_cv38 = input_data('train38')"
   ]
  },
  {
   "cell_type": "code",
   "execution_count": null,
   "metadata": {},
   "outputs": [],
   "source": []
  }
 ],
 "metadata": {
  "kernelspec": {
   "display_name": "Python 3",
   "language": "python",
   "name": "python3"
  },
  "language_info": {
   "codemirror_mode": {
    "name": "ipython",
    "version": 3
   },
   "file_extension": ".py",
   "mimetype": "text/x-python",
   "name": "python",
   "nbconvert_exporter": "python",
   "pygments_lexer": "ipython3",
   "version": "3.7.3"
  }
 },
 "nbformat": 4,
 "nbformat_minor": 2
}
